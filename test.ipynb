{
 "cells": [
  {
   "cell_type": "code",
   "execution_count": 2,
   "source": [
    "import pandas as pd\r\n",
    "result_df = pd.read_csv(\"result.csv\")\r\n",
    "machine_area_df = pd.read_excel(\"機台區域作業產品.xls\" )[['Entity','Location']]\r\n",
    "merge_result = pd.merge(result_df, machine_area_df, left_on ='entity', right_on ='Entity', how='left')\r\n",
    "\r\n",
    "relative_time = 150\r\n",
    "\r\n",
    "merge_result[\"start_time\"] <= relative_time \r\n",
    "# filter_end = merge_result[\"end_time\"] >= relative_time\r\n",
    "# filter_result = merge_result[filter_strt & filter_end]\r\n",
    "\r\n",
    "\r\n",
    "\r\n"
   ],
   "outputs": [
    {
     "output_type": "execute_result",
     "data": {
      "text/plain": [
       "0        True\n",
       "1        True\n",
       "2        True\n",
       "3        True\n",
       "4        True\n",
       "        ...  \n",
       "3323    False\n",
       "3324    False\n",
       "3325    False\n",
       "3326    False\n",
       "3327    False\n",
       "Name: start_time, Length: 3328, dtype: bool"
      ]
     },
     "metadata": {},
     "execution_count": 2
    }
   ],
   "metadata": {}
  },
  {
   "cell_type": "code",
   "execution_count": 5,
   "source": [
    "import time\r\n",
    "\r\n",
    "timeString = \"2021-04-17 08:30:00\" \r\n",
    "ini_time_stamp = int(time.mktime(time.strptime(timeString, \"%Y-%m-%d %H:%M:%S\"))) \r\n",
    "\r\n",
    "ini_time_stamp"
   ],
   "outputs": [
    {
     "output_type": "execute_result",
     "data": {
      "text/plain": [
       "1618619400"
      ]
     },
     "metadata": {},
     "execution_count": 5
    }
   ],
   "metadata": {}
  }
 ],
 "metadata": {
  "orig_nbformat": 4,
  "language_info": {
   "name": "python",
   "version": "3.9.2",
   "mimetype": "text/x-python",
   "codemirror_mode": {
    "name": "ipython",
    "version": 3
   },
   "pygments_lexer": "ipython3",
   "nbconvert_exporter": "python",
   "file_extension": ".py"
  },
  "kernelspec": {
   "name": "python3",
   "display_name": "Python 3.9.2 64-bit"
  },
  "interpreter": {
   "hash": "fecc7229ad774fa19fd101b22e17e742882d1e89970eef6bf6be04bde63233fb"
  }
 },
 "nbformat": 4,
 "nbformat_minor": 2
}